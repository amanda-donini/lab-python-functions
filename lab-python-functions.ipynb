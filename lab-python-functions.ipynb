{
 "cells": [
  {
   "cell_type": "markdown",
   "id": "25d7736c-ba17-4aff-b6bb-66eba20fbf4e",
   "metadata": {},
   "source": [
    "# Lab | Functions"
   ]
  },
  {
   "cell_type": "markdown",
   "id": "0c581062-8967-4d93-b06e-62833222f930",
   "metadata": {
    "tags": []
   },
   "source": [
    "## Exercise: Managing Customer Orders with Functions\n",
    "\n",
    "In the previous exercise, you improved the code for managing customer orders by using loops and flow control. Now, let's take it a step further and refactor the code by introducing functions.\n",
    "\n",
    "Follow the steps below to complete the exercise:\n",
    "\n",
    "1. Define a function named `initialize_inventory` that takes `products` as a parameter. Inside the function, implement the code for initializing the inventory dictionary using a loop and user input.\n",
    "\n",
    "2. Define a function named `get_customer_orders` that takes no parameters. Inside the function, implement the code for prompting the user to enter the product names using a loop. The function should return the `customer_orders` set.\n",
    "\n",
    "3. Define a function named `update_inventory` that takes `customer_orders` and `inventory` as parameters. Inside the function, implement the code for updating the inventory dictionary based on the customer orders.\n",
    "\n",
    "4. Define a function named `calculate_order_statistics` that takes `customer_orders` and `products` as parameters. Inside the function, implement the code for calculating the order statistics (total products ordered, and percentage of unique products ordered). The function should return these values.\n",
    "\n",
    "5. Define a function named `print_order_statistics` that takes `order_statistics` as a parameter. Inside the function, implement the code for printing the order statistics.\n",
    "\n",
    "6. Define a function named `print_updated_inventory` that takes `inventory` as a parameter. Inside the function, implement the code for printing the updated inventory.\n",
    "\n",
    "7. Call the functions in the appropriate sequence to execute the program and manage customer orders.\n",
    "\n",
    "Hints for functions:\n",
    "\n",
    "- Consider the input parameters required for each function and their return values.\n",
    "- Utilize function parameters and return values to transfer data between functions.\n",
    "- Test your functions individually to ensure they work correctly.\n",
    "\n",
    "\n"
   ]
  },
  {
   "cell_type": "code",
   "execution_count": 1,
   "id": "da699acb",
   "metadata": {},
   "outputs": [
    {
     "name": "stdout",
     "output_type": "stream",
     "text": [
      "Amount of items:\n",
      "{'t-shirt': 1, 'mug': 2, 'hat': 3, 'book': 4, 'keychain': 5}\n"
     ]
    }
   ],
   "source": [
    "def initialize_inventory(products):\n",
    "    invetory = {}\n",
    "\n",
    "    for product in products:\n",
    "        quantity = int(input(f\"How many {product} do we have? \"))\n",
    "        quantity_of_product = quantity\n",
    "        invetory[product] = quantity_of_product\n",
    "        #print(invetory)\n",
    "        \n",
    "    return invetory\n",
    "\n",
    "products = (\"t-shirt\", \"mug\", \"hat\", \"book\", \"keychain\")\n",
    "\n",
    "inventory = initialize_inventory(products)\n",
    "print(\"Amount of items:\")\n",
    "print(inventory)"
   ]
  },
  {
   "cell_type": "code",
   "execution_count": 8,
   "id": "a4bb09d8",
   "metadata": {},
   "outputs": [
    {
     "name": "stdout",
     "output_type": "stream",
     "text": [
      "14\n"
     ]
    }
   ],
   "source": [
    "sum_quantity_products = sum(inventory.values())\n",
    "print(sum_quantity_products)"
   ]
  },
  {
   "cell_type": "code",
   "execution_count": 4,
   "id": "5df986ac",
   "metadata": {},
   "outputs": [
    {
     "name": "stdout",
     "output_type": "stream",
     "text": [
      "Produts ordered:  {'mug'}\n"
     ]
    }
   ],
   "source": [
    "def get_customer_orders():\n",
    "    customer_orders = set()\n",
    "\n",
    "    while True:\n",
    "        product_ordered = input(\"Type the name of the product that you want to order: \").lower()\n",
    "        customer_orders.add(product_ordered)\n",
    "\n",
    "        another_product = input(\"Do you want to order something else? (yes/no): \")\n",
    "        if another_product.lower() != \"yes\":\n",
    "            break\n",
    "\n",
    "    print(\"Produts ordered: \", customer_orders)\n",
    "    return customer_orders\n",
    "\n",
    "\n",
    "customer_orders = get_customer_orders()"
   ]
  },
  {
   "cell_type": "code",
   "execution_count": 26,
   "id": "e9c95903",
   "metadata": {},
   "outputs": [],
   "source": [
    "\n",
    "def update_inventory(customer_orders, inventory):\n",
    "    for product in customer_orders:\n",
    "        if product in inventory:\n",
    "            inventory[product] -= 1\n",
    "        #print(inventory)\n",
    "        else:\n",
    "            print(f\"{product} is not available in the inventory\")\n",
    "\n",
    "update_inventory(customer_orders, inventory)\n"
   ]
  },
  {
   "cell_type": "code",
   "execution_count": 19,
   "id": "cc0fba2e",
   "metadata": {},
   "outputs": [
    {
     "data": {
      "text/plain": [
       "(1, 7.142857142857143)"
      ]
     },
     "execution_count": 19,
     "metadata": {},
     "output_type": "execute_result"
    }
   ],
   "source": [
    "def calculate_orders_statistics(customer_orders, products):\n",
    "    total_product_ordered = len(customer_orders)\n",
    "    \n",
    "    percentage_products_ordered = (100*len(customer_orders))/(sum_quantity_products)\n",
    "    return total_product_ordered, percentage_products_ordered\n",
    "\n",
    "order_statistics = calculate_orders_statistics(customer_orders, products)\n",
    "order_statistics\n",
    "    \n",
    "\n",
    "    "
   ]
  },
  {
   "cell_type": "code",
   "execution_count": 21,
   "id": "13893a9e",
   "metadata": {},
   "outputs": [
    {
     "data": {
      "text/plain": [
       "{'total products ordered': 1,\n",
       " 'percentage of products orderer': 7.142857142857143}"
      ]
     },
     "execution_count": 21,
     "metadata": {},
     "output_type": "execute_result"
    }
   ],
   "source": [
    "order_statistics_strings = [\"total products ordered\", \"percentage of products orderer\"]\n",
    "def print_order_statistics(order_statistics):\n",
    "    order_statistics_dictionary = dict(zip(order_statistics_strings, order_statistics))\n",
    "    return order_statistics_dictionary \n",
    "   \n",
    "    \n",
    "\n",
    "print_order_statistics(order_statistics)\n"
   ]
  },
  {
   "cell_type": "code",
   "execution_count": 27,
   "id": "a1e7eed6",
   "metadata": {},
   "outputs": [
    {
     "name": "stdout",
     "output_type": "stream",
     "text": [
      "update_inventory: {'t-shirt': 1, 'mug': 0, 'hat': 3, 'book': 4, 'keychain': 5}\n"
     ]
    }
   ],
   "source": [
    "def print_updated_inventory(inventory):\n",
    "    print(\"update_inventory:\", inventory)\n",
    "\n",
    "print_updated_inventory(inventory)"
   ]
  }
 ],
 "metadata": {
  "kernelspec": {
   "display_name": "Python 3.10.6 64-bit",
   "language": "python",
   "name": "python3"
  },
  "language_info": {
   "codemirror_mode": {
    "name": "ipython",
    "version": 3
   },
   "file_extension": ".py",
   "mimetype": "text/x-python",
   "name": "python",
   "nbconvert_exporter": "python",
   "pygments_lexer": "ipython3",
   "version": "3.10.6"
  },
  "vscode": {
   "interpreter": {
    "hash": "aee8b7b246df8f9039afb4144a1f6fd8d2ca17a180786b69acc140d282b71a49"
   }
  }
 },
 "nbformat": 4,
 "nbformat_minor": 5
}
